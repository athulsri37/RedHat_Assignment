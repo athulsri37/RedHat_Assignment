{
 "cells": [
  {
   "cell_type": "code",
   "execution_count": 7,
   "id": "56c1428b-6e77-4dd2-bcea-d85154ec9706",
   "metadata": {},
   "outputs": [],
   "source": [
    "\"\"\"\n",
    "References: \n",
    "1) https://github.com/dogtagpki/pki/wiki/PKI-Certificate-Python-API\n",
    "2) https://github.com/dogtagpki/pki/wiki/PKI-Certificate-Client-in-Python\n",
    "3) https://frasertweedale.github.io/blog-redhat/posts/2014-06-02-dogtag-python-api.html\n",
    "\n",
    "\"\"\"\n",
    "from pki.client import PKIConnection\n",
    "from pki.account import AccountClient\n",
    "from pki.cert import CertClient\n",
    "from pki.cert import CertSearchRequest\n",
    "\n",
    "\n",
    "#connection = PKIConnection( protocol='http',hostname='localhost', port='8080') #this works\n",
    "connection = PKIConnection( protocol='https',hostname='localhost', port='8443', verify=False)\n",
    "\n",
    "connection.set_authentication_cert(\"/tmp/ca_admin_cert.pem\")\n",
    "\n",
    "cert_client = CertClient(connection)  "
   ]
  },
  {
   "cell_type": "code",
   "execution_count": 8,
   "id": "afc8c8a6-232b-4e07-b99c-1815e8f561f5",
   "metadata": {},
   "outputs": [
    {
     "name": "stdout",
     "output_type": "stream",
     "text": [
      "-------------------------  0x1    -----------------------------------\n",
      "Serial Number: 0x1\n",
      "Subject DN: CN=CA Signing Certificate,OU=pki-tomcat,O=EXAMPLE\n",
      "Status: VALID\n",
      "-------------------------  0x2    -----------------------------------\n",
      "Serial Number: 0x2\n",
      "Subject DN: CN=CA OCSP Signing Certificate,OU=pki-tomcat,O=EXAMPLE\n",
      "Status: VALID\n",
      "-------------------------  0x3    -----------------------------------\n",
      "Serial Number: 0x3\n",
      "Subject DN: CN=pki.example.com,OU=pki-tomcat,O=EXAMPLE\n",
      "Status: VALID\n",
      "-------------------------  0x4    -----------------------------------\n",
      "Serial Number: 0x4\n",
      "Subject DN: CN=Subsystem Certificate,OU=pki-tomcat,O=EXAMPLE\n",
      "Status: VALID\n",
      "-------------------------  0x5    -----------------------------------\n",
      "Serial Number: 0x5\n",
      "Subject DN: CN=CA Audit Signing Certificate,OU=pki-tomcat,O=EXAMPLE\n",
      "Status: VALID\n",
      "-------------------------  0x6    -----------------------------------\n",
      "Serial Number: 0x6\n",
      "Subject DN: CN=PKI Administrator,E=caadmin@example.com,OU=pki-tomcat,O=EXAMPLE\n",
      "Status: VALID\n",
      "-------------------------  0x7    -----------------------------------\n",
      "Serial Number: 0x7\n",
      "Subject DN: UID=testuser\n",
      "Status: VALID\n"
     ]
    }
   ],
   "source": [
    "cert_search_request = CertSearchRequest(serial_from='6', status='VALID')\n",
    "cert_data_infos = cert_client.list_certs(cert_search_request)\n",
    "#cert_data_infos = cert_client.list_certs()\n",
    "\n",
    "\n",
    "for cert_data_info in cert_data_infos:\n",
    "    print(\"-------------------------  \"+cert_data_info.serial_number+\"    -----------------------------------\")  \n",
    "    print(\"Serial Number: \" + cert_data_info.serial_number)\n",
    "    print(\"Subject DN: \" + cert_data_info.subject_dn)\n",
    "    print(\"Status: \" + cert_data_info.status)"
   ]
  },
  {
   "cell_type": "code",
   "execution_count": 10,
   "id": "ead4d08e-149f-440f-859c-9de5ed65a0f0",
   "metadata": {},
   "outputs": [
    {
     "ename": "PKIException",
     "evalue": "Unable to create enrollment request: Invalid Request",
     "output_type": "error",
     "traceback": [
      "\u001b[0;31m---------------------------------------------------------------------------\u001b[0m",
      "\u001b[0;31mHTTPError\u001b[0m                                 Traceback (most recent call last)",
      "File \u001b[0;32m~/.conda/envs/mydevenv/lib/python3.8/site-packages/pki/__init__.py:431\u001b[0m, in \u001b[0;36mhandle_exceptions.<locals>.exceptions_decorator.<locals>.handler\u001b[0;34m(inst, *args, **kwargs)\u001b[0m\n\u001b[1;32m    430\u001b[0m \u001b[38;5;28;01mtry\u001b[39;00m:\n\u001b[0;32m--> 431\u001b[0m     \u001b[38;5;28;01mreturn\u001b[39;00m \u001b[43mfn_call\u001b[49m\u001b[43m(\u001b[49m\u001b[43minst\u001b[49m\u001b[43m,\u001b[49m\u001b[43m \u001b[49m\u001b[38;5;241;43m*\u001b[39;49m\u001b[43margs\u001b[49m\u001b[43m,\u001b[49m\u001b[43m \u001b[49m\u001b[38;5;241;43m*\u001b[39;49m\u001b[38;5;241;43m*\u001b[39;49m\u001b[43mkwargs\u001b[49m\u001b[43m)\u001b[49m\n\u001b[1;32m    432\u001b[0m \u001b[38;5;28;01mexcept\u001b[39;00m requests\u001b[38;5;241m.\u001b[39mexceptions\u001b[38;5;241m.\u001b[39mHTTPError:\n\u001b[1;32m    433\u001b[0m     \u001b[38;5;66;03m# store exception information. json may raise another\u001b[39;00m\n\u001b[1;32m    434\u001b[0m     \u001b[38;5;66;03m# exception. We want to re-raise the HTTPError.\u001b[39;00m\n",
      "File \u001b[0;32m~/.conda/envs/mydevenv/lib/python3.8/site-packages/pki/cert.py:979\u001b[0m, in \u001b[0;36mCertClient.submit_enrollment_request\u001b[0;34m(self, enrollment_request, authority)\u001b[0m\n\u001b[1;32m    978\u001b[0m \u001b[38;5;66;03m# print request_object\u001b[39;00m\n\u001b[0;32m--> 979\u001b[0m r \u001b[38;5;241m=\u001b[39m \u001b[38;5;28;43mself\u001b[39;49m\u001b[38;5;241;43m.\u001b[39;49m\u001b[43mconnection\u001b[49m\u001b[38;5;241;43m.\u001b[39;49m\u001b[43mpost\u001b[49m\u001b[43m(\u001b[49m\u001b[38;5;28;43mself\u001b[39;49m\u001b[38;5;241;43m.\u001b[39;49m\u001b[43mcert_requests_url\u001b[49m\u001b[43m,\u001b[49m\u001b[43m \u001b[49m\u001b[43mrequest_object\u001b[49m\u001b[43m,\u001b[49m\n\u001b[1;32m    980\u001b[0m \u001b[43m                         \u001b[49m\u001b[38;5;28;43mself\u001b[39;49m\u001b[38;5;241;43m.\u001b[39;49m\u001b[43mheaders\u001b[49m\u001b[43m,\u001b[49m\u001b[43m \u001b[49m\u001b[43mparams\u001b[49m\u001b[43m)\u001b[49m\n\u001b[1;32m    981\u001b[0m \u001b[38;5;28;01mreturn\u001b[39;00m CertRequestInfoCollection\u001b[38;5;241m.\u001b[39mfrom_json(r\u001b[38;5;241m.\u001b[39mjson())\n",
      "File \u001b[0;32m~/.conda/envs/mydevenv/lib/python3.8/site-packages/pki/client.py:55\u001b[0m, in \u001b[0;36mcatch_insecure_warning.<locals>.wrapper\u001b[0;34m(self, *args, **kwargs)\u001b[0m\n\u001b[1;32m     54\u001b[0m warnings\u001b[38;5;241m.\u001b[39msimplefilter(\u001b[38;5;124m'\u001b[39m\u001b[38;5;124mignore\u001b[39m\u001b[38;5;124m'\u001b[39m, InsecureRequestWarning)\n\u001b[0;32m---> 55\u001b[0m \u001b[38;5;28;01mreturn\u001b[39;00m \u001b[43mfunc\u001b[49m\u001b[43m(\u001b[49m\u001b[38;5;28;43mself\u001b[39;49m\u001b[43m,\u001b[49m\u001b[43m \u001b[49m\u001b[38;5;241;43m*\u001b[39;49m\u001b[43margs\u001b[49m\u001b[43m,\u001b[49m\u001b[43m \u001b[49m\u001b[38;5;241;43m*\u001b[39;49m\u001b[38;5;241;43m*\u001b[39;49m\u001b[43mkwargs\u001b[49m\u001b[43m)\u001b[49m\n",
      "File \u001b[0;32m~/.conda/envs/mydevenv/lib/python3.8/site-packages/pki/client.py:301\u001b[0m, in \u001b[0;36mPKIConnection.post\u001b[0;34m(self, path, payload, headers, params, use_root_uri)\u001b[0m\n\u001b[1;32m    296\u001b[0m r \u001b[38;5;241m=\u001b[39m \u001b[38;5;28mself\u001b[39m\u001b[38;5;241m.\u001b[39msession\u001b[38;5;241m.\u001b[39mpost(\n\u001b[1;32m    297\u001b[0m     target_path,\n\u001b[1;32m    298\u001b[0m     data\u001b[38;5;241m=\u001b[39mpayload,\n\u001b[1;32m    299\u001b[0m     headers\u001b[38;5;241m=\u001b[39mheaders,\n\u001b[1;32m    300\u001b[0m     params\u001b[38;5;241m=\u001b[39mparams)\n\u001b[0;32m--> 301\u001b[0m \u001b[43mr\u001b[49m\u001b[38;5;241;43m.\u001b[39;49m\u001b[43mraise_for_status\u001b[49m\u001b[43m(\u001b[49m\u001b[43m)\u001b[49m\n\u001b[1;32m    302\u001b[0m \u001b[38;5;28;01mreturn\u001b[39;00m r\n",
      "File \u001b[0;32m~/.conda/envs/mydevenv/lib/python3.8/site-packages/requests/models.py:1021\u001b[0m, in \u001b[0;36mResponse.raise_for_status\u001b[0;34m(self)\u001b[0m\n\u001b[1;32m   1020\u001b[0m \u001b[38;5;28;01mif\u001b[39;00m http_error_msg:\n\u001b[0;32m-> 1021\u001b[0m     \u001b[38;5;28;01mraise\u001b[39;00m HTTPError(http_error_msg, response\u001b[38;5;241m=\u001b[39m\u001b[38;5;28mself\u001b[39m)\n",
      "\u001b[0;31mHTTPError\u001b[0m: 500 Server Error:  for url: https://localhost:8443/ca/rest/certrequests",
      "\nDuring handling of the above exception, another exception occurred:\n",
      "\u001b[0;31mPKIException\u001b[0m                              Traceback (most recent call last)",
      "Cell \u001b[0;32mIn [10], line 28\u001b[0m\n\u001b[1;32m     23\u001b[0m inputs[\u001b[38;5;124m'\u001b[39m\u001b[38;5;124mrequestor_email\u001b[39m\u001b[38;5;124m'\u001b[39m] \u001b[38;5;241m=\u001b[39m \u001b[38;5;124m\"\u001b[39m\u001b[38;5;124mexample@redhat.com\u001b[39m\u001b[38;5;124m\"\u001b[39m\n\u001b[1;32m     25\u001b[0m \u001b[38;5;66;03m#enroll_req = cert_client.create_enrollment_request(\"caServerCert\", inputs)\u001b[39;00m\n\u001b[1;32m     26\u001b[0m \u001b[38;5;66;03m#req_infos = cert_client.submit_enrollment_request(enroll_req)\u001b[39;00m\n\u001b[0;32m---> 28\u001b[0m cert_data_objects \u001b[38;5;241m=\u001b[39m \u001b[43mcert_client\u001b[49m\u001b[38;5;241;43m.\u001b[39;49m\u001b[43menroll_cert\u001b[49m\u001b[43m(\u001b[49m\u001b[38;5;124;43m'\u001b[39;49m\u001b[38;5;124;43mcaServerCert\u001b[39;49m\u001b[38;5;124;43m'\u001b[39;49m\u001b[43m,\u001b[49m\u001b[43m \u001b[49m\u001b[43minputs\u001b[49m\u001b[43m)\u001b[49m\n",
      "File \u001b[0;32m~/.conda/envs/mydevenv/lib/python3.8/site-packages/pki/__init__.py:431\u001b[0m, in \u001b[0;36mhandle_exceptions.<locals>.exceptions_decorator.<locals>.handler\u001b[0;34m(inst, *args, **kwargs)\u001b[0m\n\u001b[1;32m    429\u001b[0m \u001b[38;5;124;03m\"\"\" Decorator to catch and re-throw PKIExceptions.\"\"\"\u001b[39;00m\n\u001b[1;32m    430\u001b[0m \u001b[38;5;28;01mtry\u001b[39;00m:\n\u001b[0;32m--> 431\u001b[0m     \u001b[38;5;28;01mreturn\u001b[39;00m \u001b[43mfn_call\u001b[49m\u001b[43m(\u001b[49m\u001b[43minst\u001b[49m\u001b[43m,\u001b[49m\u001b[43m \u001b[49m\u001b[38;5;241;43m*\u001b[39;49m\u001b[43margs\u001b[49m\u001b[43m,\u001b[49m\u001b[43m \u001b[49m\u001b[38;5;241;43m*\u001b[39;49m\u001b[38;5;241;43m*\u001b[39;49m\u001b[43mkwargs\u001b[49m\u001b[43m)\u001b[49m\n\u001b[1;32m    432\u001b[0m \u001b[38;5;28;01mexcept\u001b[39;00m requests\u001b[38;5;241m.\u001b[39mexceptions\u001b[38;5;241m.\u001b[39mHTTPError:\n\u001b[1;32m    433\u001b[0m     \u001b[38;5;66;03m# store exception information. json may raise another\u001b[39;00m\n\u001b[1;32m    434\u001b[0m     \u001b[38;5;66;03m# exception. We want to re-raise the HTTPError.\u001b[39;00m\n\u001b[1;32m    435\u001b[0m     exc_type, exc_val, exc_tb \u001b[38;5;241m=\u001b[39m sys\u001b[38;5;241m.\u001b[39mexc_info()\n",
      "File \u001b[0;32m~/.conda/envs/mydevenv/lib/python3.8/site-packages/pki/cert.py:1007\u001b[0m, in \u001b[0;36mCertClient.enroll_cert\u001b[0;34m(self, profile_id, inputs, authority)\u001b[0m\n\u001b[1;32m   1004\u001b[0m enroll_request \u001b[38;5;241m=\u001b[39m \u001b[38;5;28mself\u001b[39m\u001b[38;5;241m.\u001b[39mcreate_enrollment_request(profile_id, inputs)\n\u001b[1;32m   1006\u001b[0m \u001b[38;5;66;03m# Submit the enrollment request\u001b[39;00m\n\u001b[0;32m-> 1007\u001b[0m cert_request_infos \u001b[38;5;241m=\u001b[39m \u001b[38;5;28;43mself\u001b[39;49m\u001b[38;5;241;43m.\u001b[39;49m\u001b[43msubmit_enrollment_request\u001b[49m\u001b[43m(\u001b[49m\n\u001b[1;32m   1008\u001b[0m \u001b[43m    \u001b[49m\u001b[43menroll_request\u001b[49m\u001b[43m,\u001b[49m\u001b[43m \u001b[49m\u001b[43mauthority\u001b[49m\u001b[43m)\u001b[49m\n\u001b[1;32m   1010\u001b[0m \u001b[38;5;66;03m# Approve the requests generated for the certificate enrollment.\u001b[39;00m\n\u001b[1;32m   1011\u001b[0m \u001b[38;5;66;03m# Fetch the CertData objects for all the certificates created and\u001b[39;00m\n\u001b[1;32m   1012\u001b[0m \u001b[38;5;66;03m# return to the caller.\u001b[39;00m\n\u001b[1;32m   1014\u001b[0m ret \u001b[38;5;241m=\u001b[39m []\n",
      "File \u001b[0;32m~/.conda/envs/mydevenv/lib/python3.8/site-packages/pki/__init__.py:450\u001b[0m, in \u001b[0;36mhandle_exceptions.<locals>.exceptions_decorator.<locals>.handler\u001b[0;34m(inst, *args, **kwargs)\u001b[0m\n\u001b[1;32m    448\u001b[0m exception_class \u001b[38;5;241m=\u001b[39m EXCEPTION_MAPPINGS[clazz]\n\u001b[1;32m    449\u001b[0m pki_exception \u001b[38;5;241m=\u001b[39m exception_class\u001b[38;5;241m.\u001b[39mfrom_json(json)\n\u001b[0;32m--> 450\u001b[0m \u001b[38;5;28;01mraise\u001b[39;00m pki_exception\n",
      "\u001b[0;31mPKIException\u001b[0m: Unable to create enrollment request: Invalid Request"
     ]
    }
   ],
   "source": [
    "# Create a dictionary that stores values required for certificate enrollment\n",
    "inputs = {}\n",
    "\n",
    "# Set the cert_request_type\n",
    "inputs[\"cert_request_type\"] = \"pkcs10\"\n",
    "\n",
    "# Set the base64 encoded string of the crmf request generated to attribute cert_request\n",
    "inputs['cert_request'] = \"MIIBmDCCAQECAQAwWDELMAkGA1UEBhMCVVMxCzAJBgNVBAg\" \\\n",
    "                             \"MAk5DMRAwDgYDVQQHDAdSYWxlaWdoMRUwEwYDVQQKDAxSZW\" \\\n",
    "                             \"QgSGF0IEluYy4xEzARBgNVBAMMClRlc3RTZXJ2ZXIwgZ8wD\" \\\n",
    "                             \"QYJKoZIhvcNAQEBBQADgY0AMIGJAoGBAMJpWz92dSYCvWxl\" \\\n",
    "                             \"lrQCY5atPKCswUwyppRNGPnKmJ77AdHBBI4dFyET+h/+69j\" \\\n",
    "                             \"QMTLZMa8FX7SbyHvgbgLBP4Q/RzCSE2S87qFNjriOqiQCqJ\" \\\n",
    "                             \"mcrzDzdncJQiP+O7T6MSpLo3smLP7dK1Vd7vK0Vy8yHwV0e\" \\\n",
    "                             \"Bx7DgYedv2slBPHAgMBAAGgADANBgkqhkiG9w0BAQUFAAOB\" \\\n",
    "                             \"gQBvkxAGKwkfK3TKwLc5Mg0IWp8zGRVwxdIlghAL8DugNoc\" \\\n",
    "                             \"CNNgmZazglJOOehLuk0/NkLX1ZM5RrVgM09W6kcfWZtIwr5\" \\\n",
    "                             \"Uje2K/+6tW2ZTGrbizs7CNOTMzA/9H8CkHb4H9P/qRT275z\" \\\n",
    "                             \"HIocYj4smUnXLwWGsBMeGs+OMMbGvSrHg==\"\n",
    "\n",
    "#Set the values for requestor details\n",
    "inputs['requestor_name'] = \"Tester\"\n",
    "inputs['requestor_email'] = \"example@redhat.com\"\n",
    "\n",
    "#enroll_req = cert_client.create_enrollment_request(\"caServerCert\", inputs)\n",
    "#req_infos = cert_client.submit_enrollment_request(enroll_req)\n",
    "\n",
    "cert_data_objects = cert_client.enroll_cert('caServerCert', inputs)"
   ]
  },
  {
   "cell_type": "code",
   "execution_count": 11,
   "id": "eb78f1a0-6a96-4130-84ec-3b9e67e95021",
   "metadata": {},
   "outputs": [
    {
     "ename": "NameError",
     "evalue": "name 'cert_data_objects' is not defined",
     "output_type": "error",
     "traceback": [
      "\u001b[0;31m---------------------------------------------------------------------------\u001b[0m",
      "\u001b[0;31mNameError\u001b[0m                                 Traceback (most recent call last)",
      "Cell \u001b[0;32mIn [11], line 2\u001b[0m\n\u001b[1;32m      1\u001b[0m \u001b[38;5;66;03m# Since the caUserCert profile is used in the example the cert_data_objects list contains only one element.\u001b[39;00m\n\u001b[0;32m----> 2\u001b[0m cert_data \u001b[38;5;241m=\u001b[39m \u001b[43mcert_data_objects\u001b[49m[\u001b[38;5;241m0\u001b[39m]\n\u001b[1;32m      4\u001b[0m \u001b[38;5;66;03m# Print the certificate information\u001b[39;00m\n\u001b[1;32m      5\u001b[0m \u001b[38;5;28mprint\u001b[39m(\u001b[38;5;124m'\u001b[39m\u001b[38;5;124mSerial Number: \u001b[39m\u001b[38;5;124m'\u001b[39m \u001b[38;5;241m+\u001b[39m cert_data\u001b[38;5;241m.\u001b[39mserial_number)\n",
      "\u001b[0;31mNameError\u001b[0m: name 'cert_data_objects' is not defined"
     ]
    }
   ],
   "source": [
    "# Since the caUserCert profile is used in the example the cert_data_objects list contains only one element.\n",
    "cert_data = cert_data_objects[0]\n",
    "\n",
    "# Print the certificate information\n",
    "print('Serial Number: ' + cert_data.serial_number)\n",
    "print('Issuer: ' + cert_data.issuer_dn)\n",
    "print('Subject: ' + cert_data.subject_dn)\n",
    "print('Status: ' + cert_data.status)\n",
    "print('Not Before: ' + cert_data.not_before)\n",
    "print('Not After: ' + cert_data.not_after)\n",
    "print('Encoded: ')\n",
    "print(cert_data.encoded)\n",
    "print(\"Pretty print format: \")\n",
    "print(cert_data.pretty_print)"
   ]
  },
  {
   "cell_type": "code",
   "execution_count": null,
   "id": "eff31db3-3cf1-4657-858e-cd0fc2201afb",
   "metadata": {},
   "outputs": [],
   "source": [
    "\"\"\"\n",
    "Summary:\n",
    "* After the pre requisite dependencies were installed, I was able to invoke the Python API using the http protocol or https without ssl verification, to list all the certificates in the server\n",
    "* When using https with SSL verification, I encountered an cerificate SSL verification error, which requires further investigation to resolve the issue. \n",
    "* It is likely that the certification enrollment related python API is also failing because of the SSL verification error.   \n",
    "\n",
    "\"\"\""
   ]
  }
 ],
 "metadata": {
  "kernelspec": {
   "display_name": "Python 3 (ipykernel)",
   "language": "python",
   "name": "python3"
  },
  "language_info": {
   "codemirror_mode": {
    "name": "ipython",
    "version": 3
   },
   "file_extension": ".py",
   "mimetype": "text/x-python",
   "name": "python",
   "nbconvert_exporter": "python",
   "pygments_lexer": "ipython3",
   "version": "3.8.15"
  }
 },
 "nbformat": 4,
 "nbformat_minor": 5
}
